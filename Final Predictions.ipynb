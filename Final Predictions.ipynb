{
 "cells": [
  {
   "cell_type": "markdown",
   "metadata": {},
   "source": [
    "## Final Predictions"
   ]
  },
  {
   "cell_type": "code",
   "execution_count": 22,
   "metadata": {},
   "outputs": [],
   "source": [
    "import pandas as pd\n",
    "import numpy as np\n",
    "from sklearn.model_selection import train_test_split\n",
    "from sklearn.metrics import mean_squared_error, r2_score\n",
    "from sklearn.linear_model import LinearRegression"
   ]
  },
  {
   "cell_type": "code",
   "execution_count": 2,
   "metadata": {},
   "outputs": [],
   "source": [
    "df_new2 = pd.read_csv('Finaldata', index_col=0)"
   ]
  },
  {
   "cell_type": "markdown",
   "metadata": {},
   "source": [
    "### Train Test Split"
   ]
  },
  {
   "cell_type": "markdown",
   "metadata": {},
   "source": [
    "We will now conduct a train-test-split on our dataset with a train size of 80% and a test size of 20%. "
   ]
  },
  {
   "cell_type": "code",
   "execution_count": 3,
   "metadata": {},
   "outputs": [],
   "source": [
    "X = df_new2.drop('price', axis=1)\n",
    "y = df_new2['price']"
   ]
  },
  {
   "cell_type": "code",
   "execution_count": 4,
   "metadata": {},
   "outputs": [],
   "source": [
    "X_train, X_test, y_train, y_test = train_test_split(X, y, test_size=0.2, random_state=42)"
   ]
  },
  {
   "cell_type": "code",
   "execution_count": 17,
   "metadata": {},
   "outputs": [
    {
     "name": "stdout",
     "output_type": "stream",
     "text": [
      "Train Mean Squarred Error: 5699200634.298144\n",
      "Test Mean Squarred Error: 5798429846.170465\n",
      "Train Root Mean Squarred Error: 75493.0502384037\n",
      "Test Root Mean Squarred Error: 76147.42179595094\n"
     ]
    }
   ],
   "source": [
    "# train model\n",
    "linreg = LinearRegression()\n",
    "linreg.fit(X_train, y_train)\n",
    "\n",
    "# make predictions\n",
    "y_hat_train = linreg.predict(X_train)\n",
    "y_hat_test = linreg.predict(X_test)\n",
    "\n",
    "\n",
    "# calculate MSE \n",
    "train_mse = mean_squared_error(y_train, y_hat_train)\n",
    "test_mse = mean_squared_error(y_test, y_hat_test)\n",
    "print('Train Mean Squarred Error:', train_mse)\n",
    "print('Test Mean Squarred Error:', test_mse)\n",
    "\n",
    "\n",
    "\n",
    "# calculate RMSE \n",
    "train_rmse = np.sqrt(mean_squared_error(y_train, y_hat_train))\n",
    "test_rmse = np.sqrt(mean_squared_error(y_test, y_hat_test))\n",
    "print('Train Root Mean Squarred Error:', train_rmse)\n",
    "print('Test Root Mean Squarred Error:', test_rmse)\n"
   ]
  },
  {
   "cell_type": "markdown",
   "metadata": {},
   "source": [
    "The RMSE for our train level is lower than the RMSE for our test set, which makes sense since we trained the model on our train data. Our RMSE is easier to interpret; firstly, our values are quite low. More precisely, predictions for our train data are typically off by \\\\$75,493 while our test data predictions are off by \\\\$76,147. "
   ]
  },
  {
   "cell_type": "markdown",
   "metadata": {},
   "source": [
    "### Run Cross Validation"
   ]
  },
  {
   "cell_type": "code",
   "execution_count": 18,
   "metadata": {},
   "outputs": [],
   "source": [
    "from sklearn.metrics import make_scorer\n",
    "from sklearn.model_selection import cross_val_score"
   ]
  },
  {
   "cell_type": "code",
   "execution_count": 20,
   "metadata": {},
   "outputs": [
    {
     "data": {
      "text/plain": [
       "5744596576.790842"
      ]
     },
     "execution_count": 20,
     "metadata": {},
     "output_type": "execute_result"
    }
   ],
   "source": [
    "# K-Fold Cross-Validation with 30 folds\n",
    "mse = make_scorer(mean_squared_error)\n",
    "cv_30_results = cross_val_score(linreg, X, y, cv=30, scoring=mse)\n",
    "cv_30_results.mean()"
   ]
  },
  {
   "cell_type": "markdown",
   "metadata": {},
   "source": [
    "Our 30-fold cross validation returns a value that is close to the train and test MSE values that we ran previously."
   ]
  },
  {
   "cell_type": "code",
   "execution_count": 24,
   "metadata": {},
   "outputs": [
    {
     "name": "stdout",
     "output_type": "stream",
     "text": [
      "Train Data 0.7002809159095658\n",
      "Test Data 0.7019363713349078\n",
      "Our regression can predict home price with approximately 70% accuracy.\n"
     ]
    }
   ],
   "source": [
    "# Check R2 score for the train-test split\n",
    "print('Train Data', r2_score(y_train, linreg.predict(X_train)))\n",
    "print('Test Data', r2_score(y_test, linreg.predict(X_test)))\n",
    "\n",
    "print('Our regression can predict home price with approximately 70% accuracy.')"
   ]
  },
  {
   "cell_type": "markdown",
   "metadata": {},
   "source": [
    "### Conclusion"
   ]
  },
  {
   "cell_type": "markdown",
   "metadata": {},
   "source": [
    "Our model is able to predict housing price with approximately 70% accuracy, which is a significant improvement from our base model. The average mean squared error of a K-fold cross-validation of 30 folds is similar to the MSE values of our train and test sets. Additionally, our model has quite low RMSE values for both our train and our test sets; meaning that on average our model misses our values by \\\\$75,493 for our train set and \\\\$76,147 for our test set. Our test and train set RMSEs are quite close together, so we can assume that our model is not overfit nor underfit, and that our regression does a fair job of estimating our testing data. \n",
    "\n",
    "Additionally, our model has made several assumptions. The residuals are normally distributed, features are not correlated with one another and therefore our model has limited multicollinearity, the residuals follow homoscedasticity, and, since we dropped all p-values that are less than 0.05, our remaining features are linearly related."
   ]
  },
  {
   "cell_type": "markdown",
   "metadata": {},
   "source": [
    "### Business Recommendation"
   ]
  },
  {
   "cell_type": "markdown",
   "metadata": {},
   "source": [
    "We now will revisit our business problem that was explained at the beginning of our project: assisting a housing development company determine which areas of King County have a positive relationship with price, as well as which features of these homes result in higher priced homes. \n",
    "\n",
    "Based on our results, we see that homes in the following areas are positively related to price: Bellevue, Bothell, Fall City, Issaquah, Kirkland, Mercer Island, North Bend, Redmond and Vashon. Our client should consider building their new developement in one of the listed areas, as having a home in these areas is bound to have an increase on the price and value of the home.\n",
    "\n",
    "Additionally, certain features of homes will also positively impact their price: a nice view of the property, good condition of the homes, and a high square footage of the home's living space, especially for homes with a larger number of floors and bathrooms. Therefore, in order to increase the price of the homes in this new developemnt, the housing company should consider including these features in the models of their new builds. "
   ]
  },
  {
   "cell_type": "markdown",
   "metadata": {},
   "source": [
    "### Additional Work"
   ]
  },
  {
   "cell_type": "markdown",
   "metadata": {},
   "source": [
    "Future work could be done in order to strengthen the predictability of our model; we would consider investigating the following:\n",
    "\n",
    "- Polynomials: we could introduce polynomials to the model to see if these values better represent the relationship between certain features and price\n",
    "- Engineer new features, look at ratios between features \n",
    "- Stepwise selection to determine if any new features, polynomials, additional interactions or dummy variables in order to see which elements improve our model"
   ]
  }
 ],
 "metadata": {
  "kernelspec": {
   "display_name": "learn-env",
   "language": "python",
   "name": "learn-env"
  },
  "language_info": {
   "codemirror_mode": {
    "name": "ipython",
    "version": 3
   },
   "file_extension": ".py",
   "mimetype": "text/x-python",
   "name": "python",
   "nbconvert_exporter": "python",
   "pygments_lexer": "ipython3",
   "version": "3.6.9"
  }
 },
 "nbformat": 4,
 "nbformat_minor": 4
}
