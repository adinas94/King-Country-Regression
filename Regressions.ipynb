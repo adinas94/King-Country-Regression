{
 "cells": [
  {
   "cell_type": "code",
   "execution_count": 29,
   "metadata": {},
   "outputs": [],
   "source": [
    "#import necessary libraries for regression analysis\n",
    "import pandas as pd\n",
    "import matplotlib.pyplot as plt\n",
    "%matplotlib inline\n",
    "import seaborn as sns\n",
    "\n",
    "from statsmodels.formula.api import ols\n",
    "from statsmodels.stats import diagnostic as diag\n",
    "from statsmodels.stats.outliers_influence import variance_inflation_factor\n",
    "import statsmodels.api as sm\n",
    "\n",
    "import scipy.stats as stats\n",
    "from sklearn.model_selection import train_test_split\n",
    "\n",
    "import pylab\n",
    "from modelCustomFunctions import create_ols, check_resid_distribution, check_features_vif, get_low_pval_features"
   ]
  },
  {
   "cell_type": "markdown",
   "metadata": {},
   "source": [
    "### Custom Functions ###"
   ]
  },
  {
   "cell_type": "code",
   "execution_count": 15,
   "metadata": {
    "scrolled": true
   },
   "outputs": [
    {
     "data": {
      "text/html": [
       "<div>\n",
       "<style scoped>\n",
       "    .dataframe tbody tr th:only-of-type {\n",
       "        vertical-align: middle;\n",
       "    }\n",
       "\n",
       "    .dataframe tbody tr th {\n",
       "        vertical-align: top;\n",
       "    }\n",
       "\n",
       "    .dataframe thead th {\n",
       "        text-align: right;\n",
       "    }\n",
       "</style>\n",
       "<table border=\"1\" class=\"dataframe\">\n",
       "  <thead>\n",
       "    <tr style=\"text-align: right;\">\n",
       "      <th></th>\n",
       "      <th>price</th>\n",
       "      <th>bedrooms</th>\n",
       "      <th>bathrooms</th>\n",
       "      <th>sqft_living</th>\n",
       "      <th>sqft_lot</th>\n",
       "      <th>waterfront</th>\n",
       "      <th>view</th>\n",
       "      <th>condition</th>\n",
       "      <th>sqft_above</th>\n",
       "      <th>sqft_basement</th>\n",
       "      <th>yr_built</th>\n",
       "      <th>zipcode</th>\n",
       "      <th>sqft_living15</th>\n",
       "      <th>sqft_lot15</th>\n",
       "      <th>renovated</th>\n",
       "      <th>grade_binned</th>\n",
       "      <th>floors_binned</th>\n",
       "    </tr>\n",
       "  </thead>\n",
       "  <tbody>\n",
       "    <tr>\n",
       "      <th>0</th>\n",
       "      <td>221900.0</td>\n",
       "      <td>3</td>\n",
       "      <td>1.00</td>\n",
       "      <td>1180</td>\n",
       "      <td>5650</td>\n",
       "      <td>0.0</td>\n",
       "      <td>0.0</td>\n",
       "      <td>3</td>\n",
       "      <td>1180</td>\n",
       "      <td>0.0</td>\n",
       "      <td>1955</td>\n",
       "      <td>98178</td>\n",
       "      <td>1340</td>\n",
       "      <td>5650</td>\n",
       "      <td>0</td>\n",
       "      <td>1</td>\n",
       "      <td>0</td>\n",
       "    </tr>\n",
       "    <tr>\n",
       "      <th>1</th>\n",
       "      <td>538000.0</td>\n",
       "      <td>3</td>\n",
       "      <td>2.25</td>\n",
       "      <td>2570</td>\n",
       "      <td>7242</td>\n",
       "      <td>0.0</td>\n",
       "      <td>0.0</td>\n",
       "      <td>3</td>\n",
       "      <td>2170</td>\n",
       "      <td>400.0</td>\n",
       "      <td>1951</td>\n",
       "      <td>98125</td>\n",
       "      <td>1690</td>\n",
       "      <td>7639</td>\n",
       "      <td>0</td>\n",
       "      <td>1</td>\n",
       "      <td>1</td>\n",
       "    </tr>\n",
       "    <tr>\n",
       "      <th>2</th>\n",
       "      <td>180000.0</td>\n",
       "      <td>2</td>\n",
       "      <td>1.00</td>\n",
       "      <td>770</td>\n",
       "      <td>10000</td>\n",
       "      <td>0.0</td>\n",
       "      <td>0.0</td>\n",
       "      <td>3</td>\n",
       "      <td>770</td>\n",
       "      <td>0.0</td>\n",
       "      <td>1933</td>\n",
       "      <td>98028</td>\n",
       "      <td>2720</td>\n",
       "      <td>8062</td>\n",
       "      <td>0</td>\n",
       "      <td>0</td>\n",
       "      <td>0</td>\n",
       "    </tr>\n",
       "    <tr>\n",
       "      <th>3</th>\n",
       "      <td>604000.0</td>\n",
       "      <td>4</td>\n",
       "      <td>3.00</td>\n",
       "      <td>1960</td>\n",
       "      <td>5000</td>\n",
       "      <td>0.0</td>\n",
       "      <td>0.0</td>\n",
       "      <td>5</td>\n",
       "      <td>1050</td>\n",
       "      <td>910.0</td>\n",
       "      <td>1965</td>\n",
       "      <td>98136</td>\n",
       "      <td>1360</td>\n",
       "      <td>5000</td>\n",
       "      <td>0</td>\n",
       "      <td>1</td>\n",
       "      <td>0</td>\n",
       "    </tr>\n",
       "    <tr>\n",
       "      <th>4</th>\n",
       "      <td>510000.0</td>\n",
       "      <td>3</td>\n",
       "      <td>2.00</td>\n",
       "      <td>1680</td>\n",
       "      <td>8080</td>\n",
       "      <td>0.0</td>\n",
       "      <td>0.0</td>\n",
       "      <td>3</td>\n",
       "      <td>1680</td>\n",
       "      <td>0.0</td>\n",
       "      <td>1987</td>\n",
       "      <td>98074</td>\n",
       "      <td>1800</td>\n",
       "      <td>7503</td>\n",
       "      <td>0</td>\n",
       "      <td>1</td>\n",
       "      <td>0</td>\n",
       "    </tr>\n",
       "  </tbody>\n",
       "</table>\n",
       "</div>"
      ],
      "text/plain": [
       "      price  bedrooms  bathrooms  sqft_living  sqft_lot  waterfront  view  \\\n",
       "0  221900.0         3       1.00         1180      5650         0.0   0.0   \n",
       "1  538000.0         3       2.25         2570      7242         0.0   0.0   \n",
       "2  180000.0         2       1.00          770     10000         0.0   0.0   \n",
       "3  604000.0         4       3.00         1960      5000         0.0   0.0   \n",
       "4  510000.0         3       2.00         1680      8080         0.0   0.0   \n",
       "\n",
       "   condition  sqft_above  sqft_basement  yr_built  zipcode  sqft_living15  \\\n",
       "0          3        1180            0.0      1955    98178           1340   \n",
       "1          3        2170          400.0      1951    98125           1690   \n",
       "2          3         770            0.0      1933    98028           2720   \n",
       "3          5        1050          910.0      1965    98136           1360   \n",
       "4          3        1680            0.0      1987    98074           1800   \n",
       "\n",
       "   sqft_lot15  renovated  grade_binned  floors_binned  \n",
       "0        5650          0             1              0  \n",
       "1        7639          0             1              1  \n",
       "2        8062          0             0              0  \n",
       "3        5000          0             1              0  \n",
       "4        7503          0             1              0  "
      ]
     },
     "execution_count": 15,
     "metadata": {},
     "output_type": "execute_result"
    }
   ],
   "source": [
    "df_preprocessed = pd.read_csv('Project2datacleaned', index_col=0)\n",
    "df_preprocessed.head()"
   ]
  },
  {
   "cell_type": "markdown",
   "metadata": {},
   "source": [
    "### Train-Test-Split"
   ]
  },
  {
   "cell_type": "code",
   "execution_count": 16,
   "metadata": {},
   "outputs": [],
   "source": [
    "train, test = train_test_split(df_preprocessed, test_size=0.2, random_state=42)"
   ]
  },
  {
   "cell_type": "code",
   "execution_count": 17,
   "metadata": {},
   "outputs": [
    {
     "name": "stdout",
     "output_type": "stream",
     "text": [
      "13449 3363\n"
     ]
    }
   ],
   "source": [
    "print(len(train), len(test))"
   ]
  },
  {
   "cell_type": "code",
   "execution_count": 18,
   "metadata": {},
   "outputs": [],
   "source": [
    "#Build baseline model\n",
    "X = train.drop('price', axis=1)\n",
    "formula = 'price~' + '+'.join(X.columns)"
   ]
  },
  {
   "cell_type": "code",
   "execution_count": 7,
   "metadata": {},
   "outputs": [],
   "source": [
    "baseline = ols(formula=formula, data=train).fit()"
   ]
  },
  {
   "cell_type": "code",
   "execution_count": 19,
   "metadata": {},
   "outputs": [
    {
     "data": {
      "text/html": [
       "<table class=\"simpletable\">\n",
       "<caption>OLS Regression Results</caption>\n",
       "<tr>\n",
       "  <th>Dep. Variable:</th>          <td>price</td>      <th>  R-squared:         </th>  <td>   0.368</td>  \n",
       "</tr>\n",
       "<tr>\n",
       "  <th>Model:</th>                   <td>OLS</td>       <th>  Adj. R-squared:    </th>  <td>   0.367</td>  \n",
       "</tr>\n",
       "<tr>\n",
       "  <th>Method:</th>             <td>Least Squares</td>  <th>  F-statistic:       </th>  <td>   489.1</td>  \n",
       "</tr>\n",
       "<tr>\n",
       "  <th>Date:</th>             <td>Thu, 19 Nov 2020</td> <th>  Prob (F-statistic):</th>   <td>  0.00</td>   \n",
       "</tr>\n",
       "<tr>\n",
       "  <th>Time:</th>                 <td>11:52:42</td>     <th>  Log-Likelihood:    </th> <td>-1.7520e+05</td>\n",
       "</tr>\n",
       "<tr>\n",
       "  <th>No. Observations:</th>      <td> 13449</td>      <th>  AIC:               </th>  <td>3.504e+05</td> \n",
       "</tr>\n",
       "<tr>\n",
       "  <th>Df Residuals:</th>          <td> 13432</td>      <th>  BIC:               </th>  <td>3.506e+05</td> \n",
       "</tr>\n",
       "<tr>\n",
       "  <th>Df Model:</th>              <td>    16</td>      <th>                     </th>      <td> </td>     \n",
       "</tr>\n",
       "<tr>\n",
       "  <th>Covariance Type:</th>      <td>nonrobust</td>    <th>                     </th>      <td> </td>     \n",
       "</tr>\n",
       "</table>\n",
       "<table class=\"simpletable\">\n",
       "<tr>\n",
       "        <td></td>           <th>coef</th>     <th>std err</th>      <th>t</th>      <th>P>|t|</th>  <th>[0.025</th>    <th>0.975]</th>  \n",
       "</tr>\n",
       "<tr>\n",
       "  <th>Intercept</th>     <td>-2.112e+07</td> <td> 1.98e+06</td> <td>  -10.654</td> <td> 0.000</td> <td> -2.5e+07</td> <td>-1.72e+07</td>\n",
       "</tr>\n",
       "<tr>\n",
       "  <th>bedrooms</th>      <td>-2.197e+04</td> <td> 1528.129</td> <td>  -14.376</td> <td> 0.000</td> <td> -2.5e+04</td> <td> -1.9e+04</td>\n",
       "</tr>\n",
       "<tr>\n",
       "  <th>bathrooms</th>     <td> 3.208e+04</td> <td> 2475.212</td> <td>   12.962</td> <td> 0.000</td> <td> 2.72e+04</td> <td> 3.69e+04</td>\n",
       "</tr>\n",
       "<tr>\n",
       "  <th>sqft_living</th>   <td>   84.0093</td> <td>   16.284</td> <td>    5.159</td> <td> 0.000</td> <td>   52.090</td> <td>  115.929</td>\n",
       "</tr>\n",
       "<tr>\n",
       "  <th>sqft_lot</th>      <td>    0.1050</td> <td>    0.043</td> <td>    2.434</td> <td> 0.015</td> <td>    0.020</td> <td>    0.190</td>\n",
       "</tr>\n",
       "<tr>\n",
       "  <th>waterfront</th>    <td> 5.433e+04</td> <td>  2.5e+04</td> <td>    2.172</td> <td> 0.030</td> <td> 5290.922</td> <td> 1.03e+05</td>\n",
       "</tr>\n",
       "<tr>\n",
       "  <th>view</th>          <td> 8591.2480</td> <td> 1963.987</td> <td>    4.374</td> <td> 0.000</td> <td> 4741.557</td> <td> 1.24e+04</td>\n",
       "</tr>\n",
       "<tr>\n",
       "  <th>condition</th>     <td> 1.084e+04</td> <td> 1623.837</td> <td>    6.676</td> <td> 0.000</td> <td> 7658.500</td> <td>  1.4e+04</td>\n",
       "</tr>\n",
       "<tr>\n",
       "  <th>sqft_above</th>    <td>  -34.6997</td> <td>   16.259</td> <td>   -2.134</td> <td> 0.033</td> <td>  -66.570</td> <td>   -2.829</td>\n",
       "</tr>\n",
       "<tr>\n",
       "  <th>sqft_basement</th> <td>   -8.0923</td> <td>   16.195</td> <td>   -0.500</td> <td> 0.617</td> <td>  -39.838</td> <td>   23.653</td>\n",
       "</tr>\n",
       "<tr>\n",
       "  <th>yr_built</th>      <td>-1427.1982</td> <td>   49.555</td> <td>  -28.800</td> <td> 0.000</td> <td>-1524.333</td> <td>-1330.064</td>\n",
       "</tr>\n",
       "<tr>\n",
       "  <th>zipcode</th>       <td>  244.5899</td> <td>   19.931</td> <td>   12.272</td> <td> 0.000</td> <td>  205.522</td> <td>  283.657</td>\n",
       "</tr>\n",
       "<tr>\n",
       "  <th>sqft_living15</th> <td>   70.8428</td> <td>    2.800</td> <td>   25.301</td> <td> 0.000</td> <td>   65.355</td> <td>   76.331</td>\n",
       "</tr>\n",
       "<tr>\n",
       "  <th>sqft_lot15</th>    <td>   -0.0652</td> <td>    0.058</td> <td>   -1.116</td> <td> 0.264</td> <td>   -0.180</td> <td>    0.049</td>\n",
       "</tr>\n",
       "<tr>\n",
       "  <th>renovated</th>     <td> 6204.3629</td> <td> 5936.815</td> <td>    1.045</td> <td> 0.296</td> <td>-5432.630</td> <td> 1.78e+04</td>\n",
       "</tr>\n",
       "<tr>\n",
       "  <th>grade_binned</th>  <td> 8.423e+04</td> <td> 3222.144</td> <td>   26.141</td> <td> 0.000</td> <td> 7.79e+04</td> <td> 9.05e+04</td>\n",
       "</tr>\n",
       "<tr>\n",
       "  <th>floors_binned</th> <td> 4.876e+04</td> <td> 2226.928</td> <td>   21.894</td> <td> 0.000</td> <td> 4.44e+04</td> <td> 5.31e+04</td>\n",
       "</tr>\n",
       "</table>\n",
       "<table class=\"simpletable\">\n",
       "<tr>\n",
       "  <th>Omnibus:</th>       <td>284.638</td> <th>  Durbin-Watson:     </th> <td>   1.975</td>\n",
       "</tr>\n",
       "<tr>\n",
       "  <th>Prob(Omnibus):</th> <td> 0.000</td>  <th>  Jarque-Bera (JB):  </th> <td> 207.084</td>\n",
       "</tr>\n",
       "<tr>\n",
       "  <th>Skew:</th>          <td> 0.205</td>  <th>  Prob(JB):          </th> <td>1.08e-45</td>\n",
       "</tr>\n",
       "<tr>\n",
       "  <th>Kurtosis:</th>      <td> 2.551</td>  <th>  Cond. No.          </th> <td>2.09e+08</td>\n",
       "</tr>\n",
       "</table><br/><br/>Warnings:<br/>[1] Standard Errors assume that the covariance matrix of the errors is correctly specified.<br/>[2] The condition number is large, 2.09e+08. This might indicate that there are<br/>strong multicollinearity or other numerical problems."
      ],
      "text/plain": [
       "<class 'statsmodels.iolib.summary.Summary'>\n",
       "\"\"\"\n",
       "                            OLS Regression Results                            \n",
       "==============================================================================\n",
       "Dep. Variable:                  price   R-squared:                       0.368\n",
       "Model:                            OLS   Adj. R-squared:                  0.367\n",
       "Method:                 Least Squares   F-statistic:                     489.1\n",
       "Date:                Thu, 19 Nov 2020   Prob (F-statistic):               0.00\n",
       "Time:                        11:52:42   Log-Likelihood:            -1.7520e+05\n",
       "No. Observations:               13449   AIC:                         3.504e+05\n",
       "Df Residuals:                   13432   BIC:                         3.506e+05\n",
       "Df Model:                          16                                         \n",
       "Covariance Type:            nonrobust                                         \n",
       "=================================================================================\n",
       "                    coef    std err          t      P>|t|      [0.025      0.975]\n",
       "---------------------------------------------------------------------------------\n",
       "Intercept     -2.112e+07   1.98e+06    -10.654      0.000    -2.5e+07   -1.72e+07\n",
       "bedrooms      -2.197e+04   1528.129    -14.376      0.000    -2.5e+04    -1.9e+04\n",
       "bathrooms      3.208e+04   2475.212     12.962      0.000    2.72e+04    3.69e+04\n",
       "sqft_living      84.0093     16.284      5.159      0.000      52.090     115.929\n",
       "sqft_lot          0.1050      0.043      2.434      0.015       0.020       0.190\n",
       "waterfront     5.433e+04    2.5e+04      2.172      0.030    5290.922    1.03e+05\n",
       "view           8591.2480   1963.987      4.374      0.000    4741.557    1.24e+04\n",
       "condition      1.084e+04   1623.837      6.676      0.000    7658.500     1.4e+04\n",
       "sqft_above      -34.6997     16.259     -2.134      0.033     -66.570      -2.829\n",
       "sqft_basement    -8.0923     16.195     -0.500      0.617     -39.838      23.653\n",
       "yr_built      -1427.1982     49.555    -28.800      0.000   -1524.333   -1330.064\n",
       "zipcode         244.5899     19.931     12.272      0.000     205.522     283.657\n",
       "sqft_living15    70.8428      2.800     25.301      0.000      65.355      76.331\n",
       "sqft_lot15       -0.0652      0.058     -1.116      0.264      -0.180       0.049\n",
       "renovated      6204.3629   5936.815      1.045      0.296   -5432.630    1.78e+04\n",
       "grade_binned   8.423e+04   3222.144     26.141      0.000    7.79e+04    9.05e+04\n",
       "floors_binned  4.876e+04   2226.928     21.894      0.000    4.44e+04    5.31e+04\n",
       "==============================================================================\n",
       "Omnibus:                      284.638   Durbin-Watson:                   1.975\n",
       "Prob(Omnibus):                  0.000   Jarque-Bera (JB):              207.084\n",
       "Skew:                           0.205   Prob(JB):                     1.08e-45\n",
       "Kurtosis:                       2.551   Cond. No.                     2.09e+08\n",
       "==============================================================================\n",
       "\n",
       "Warnings:\n",
       "[1] Standard Errors assume that the covariance matrix of the errors is correctly specified.\n",
       "[2] The condition number is large, 2.09e+08. This might indicate that there are\n",
       "strong multicollinearity or other numerical problems.\n",
       "\"\"\""
      ]
     },
     "execution_count": 19,
     "metadata": {},
     "output_type": "execute_result"
    }
   ],
   "source": [
    "baseline.summary()"
   ]
  },
  {
   "cell_type": "code",
   "execution_count": null,
   "metadata": {},
   "outputs": [],
   "source": [
    "check_resid_distribution(baseline)"
   ]
  },
  {
   "cell_type": "code",
   "execution_count": null,
   "metadata": {},
   "outputs": [],
   "source": [
    "check_features_vif(train, \"price\")"
   ]
  },
  {
   "cell_type": "code",
   "execution_count": 21,
   "metadata": {},
   "outputs": [],
   "source": [
    "features = df_preprocessed.columns.drop('price')\n",
    "\n",
    "def check_homoskedasticity(model, df, target : \"\", features):\n",
    "    \n",
    "    \"\"\"Input: \n",
    "    model: an sm.OLS model  \n",
    "    df: a data frame\n",
    "    target : a string \n",
    "    features: the features of the model \n",
    "    \n",
    "    Retrun: \n",
    "    True if \n",
    "    False  \n",
    "    Prints out P-value and F-statistic\n",
    "    ------------------------\n",
    "    Uses the Breusch–Pagan test. If p-value is below 0.05, then \n",
    "    the null hypothesis of homoskedasticity is rejected and \n",
    "    heteroskedasticity is assumed.\n",
    "    \"\"\" \n",
    "    \n",
    "    #Plot scatter plot\n",
    "    y_hat = df[target] - model.predict(df[features])\n",
    "            \n",
    "    plt.scatter(model.predict(df[features]), y_hat, alpha = 0.2)\n",
    "    plt.plot(model.predict(df[features]), [0 for i in range(len(df))])\n",
    "    plt.show()\n",
    "\n",
    "    #run Pegan test\n",
    "    _, pval, _, f_pval = diag.het_breuschpagan(model.resid, model.model.exog)\n",
    "    \n",
    "    print('-'*50)\n",
    "    print('The P-value is: {:.2}'.format(pval))\n",
    "    print('The F-statistic is {:.2}'.format(f_pval))\n",
    "    print('-'*50)\n",
    "    \n",
    "    if pval >= 0.05:\n",
    "    \n",
    "        print(\"The p-value is above 0.05, thus we fail to reject the null hypothesis of homoskedasticity\")\n",
    "        return True\n",
    "\n",
    "    return False"
   ]
  },
  {
   "cell_type": "code",
   "execution_count": 24,
   "metadata": {},
   "outputs": [
    {
     "data": {
      "image/png": "[encoded data removed]",
      "text/plain": [
       "<Figure size 432x288 with 1 Axes>"
      ]
     },
     "metadata": {
      "needs_background": "light"
     },
     "output_type": "display_data"
    },
    {
     "name": "stdout",
     "output_type": "stream",
     "text": [
      "--------------------------------------------------\n",
      "The P-value is: 2.2e-31\n",
      "The F-statistic is 1.3e-31\n",
      "--------------------------------------------------\n"
     ]
    },
    {
     "data": {
      "text/plain": [
       "False"
      ]
     },
     "execution_count": 24,
     "metadata": {},
     "output_type": "execute_result"
    }
   ],
   "source": [
    "check_homoskedasticity(baseline, train, \"price\", features)"
   ]
  },
  {
   "cell_type": "code",
   "execution_count": 26,
   "metadata": {},
   "outputs": [
    {
     "data": {
      "text/plain": [
       "['bedrooms',\n",
       " 'bathrooms',\n",
       " 'sqft_living',\n",
       " 'sqft_lot',\n",
       " 'waterfront',\n",
       " 'view',\n",
       " 'condition',\n",
       " 'sqft_above',\n",
       " 'yr_built',\n",
       " 'zipcode',\n",
       " 'sqft_living15',\n",
       " 'grade_binned',\n",
       " 'floors_binned']"
      ]
     },
     "execution_count": 26,
     "metadata": {},
     "output_type": "execute_result"
    }
   ],
   "source": [
    "get_low_pval_features(baseline)"
   ]
  },
  {
   "cell_type": "markdown",
   "metadata": {},
   "source": [
    "### Model 1: Log Transform Variables"
   ]
  },
  {
   "cell_type": "code",
   "execution_count": 27,
   "metadata": {},
   "outputs": [
    {
     "ename": "NameError",
     "evalue": "name 'df' is not defined",
     "output_type": "error",
     "traceback": [
      "\u001b[0;31m---------------------------------------------------------------------------\u001b[0m",
      "\u001b[0;31mNameError\u001b[0m                                 Traceback (most recent call last)",
      "\u001b[0;32m<ipython-input-27-ba121a8effc2>\u001b[0m in \u001b[0;36m<module>\u001b[0;34m()\u001b[0m\n\u001b[1;32m      1\u001b[0m \u001b[0;31m#Adding dummies to categorical variables\u001b[0m\u001b[0;34m\u001b[0m\u001b[0;34m\u001b[0m\u001b[0;34m\u001b[0m\u001b[0m\n\u001b[0;32m----> 2\u001b[0;31m \u001b[0mfloors_dummies\u001b[0m \u001b[0;34m=\u001b[0m \u001b[0mpd\u001b[0m\u001b[0;34m.\u001b[0m\u001b[0mget_dummies\u001b[0m\u001b[0;34m(\u001b[0m\u001b[0mdf\u001b[0m\u001b[0;34m[\u001b[0m\u001b[0;34m'floors_binned'\u001b[0m\u001b[0;34m]\u001b[0m\u001b[0;34m,\u001b[0m \u001b[0mprefix\u001b[0m\u001b[0;34m=\u001b[0m\u001b[0;34m'floors_binned'\u001b[0m\u001b[0;34m,\u001b[0m \u001b[0mdrop_first\u001b[0m\u001b[0;34m=\u001b[0m\u001b[0;32mTrue\u001b[0m\u001b[0;34m)\u001b[0m\u001b[0;34m\u001b[0m\u001b[0;34m\u001b[0m\u001b[0m\n\u001b[0m\u001b[1;32m      3\u001b[0m \u001b[0mview_dummies\u001b[0m \u001b[0;34m=\u001b[0m \u001b[0mpd\u001b[0m\u001b[0;34m.\u001b[0m\u001b[0mget_dummies\u001b[0m\u001b[0;34m(\u001b[0m\u001b[0mdf\u001b[0m\u001b[0;34m[\u001b[0m\u001b[0;34m'view'\u001b[0m\u001b[0;34m]\u001b[0m\u001b[0;34m,\u001b[0m \u001b[0mprefix\u001b[0m\u001b[0;34m=\u001b[0m\u001b[0;34m'view'\u001b[0m\u001b[0;34m,\u001b[0m \u001b[0mdrop_first\u001b[0m\u001b[0;34m=\u001b[0m\u001b[0;32mTrue\u001b[0m\u001b[0;34m)\u001b[0m\u001b[0;34m\u001b[0m\u001b[0;34m\u001b[0m\u001b[0m\n\u001b[1;32m      4\u001b[0m \u001b[0mgrade_dummies\u001b[0m \u001b[0;34m=\u001b[0m \u001b[0mpd\u001b[0m\u001b[0;34m.\u001b[0m\u001b[0mget_dummies\u001b[0m\u001b[0;34m(\u001b[0m\u001b[0mdf\u001b[0m\u001b[0;34m[\u001b[0m\u001b[0;34m'grade_binned'\u001b[0m\u001b[0;34m]\u001b[0m\u001b[0;34m,\u001b[0m \u001b[0mprefix\u001b[0m\u001b[0;34m=\u001b[0m\u001b[0;34m'grade_binned'\u001b[0m\u001b[0;34m,\u001b[0m \u001b[0mdrop_first\u001b[0m\u001b[0;34m=\u001b[0m\u001b[0;32mTrue\u001b[0m\u001b[0;34m)\u001b[0m\u001b[0;34m\u001b[0m\u001b[0;34m\u001b[0m\u001b[0m\n\u001b[1;32m      5\u001b[0m \u001b[0mcondition_dummies\u001b[0m \u001b[0;34m=\u001b[0m \u001b[0mpd\u001b[0m\u001b[0;34m.\u001b[0m\u001b[0mget_dummies\u001b[0m\u001b[0;34m(\u001b[0m\u001b[0mdf\u001b[0m\u001b[0;34m[\u001b[0m\u001b[0;34m'condition'\u001b[0m\u001b[0;34m]\u001b[0m\u001b[0;34m,\u001b[0m \u001b[0mprefix\u001b[0m\u001b[0;34m=\u001b[0m\u001b[0;34m'condition'\u001b[0m\u001b[0;34m,\u001b[0m \u001b[0mdrop_first\u001b[0m\u001b[0;34m=\u001b[0m\u001b[0;32mTrue\u001b[0m\u001b[0;34m)\u001b[0m\u001b[0;34m\u001b[0m\u001b[0;34m\u001b[0m\u001b[0m\n",
      "\u001b[0;31mNameError\u001b[0m: name 'df' is not defined"
     ]
    }
   ],
   "source": [
    "#Adding dummies to categorical variables\n",
    "floors_dummies = pd.get_dummies(df['floors_binned'], prefix='floors_binned', drop_first=True)\n",
    "view_dummies = pd.get_dummies(df['view'], prefix='view', drop_first=True)\n",
    "grade_dummies = pd.get_dummies(df['grade_binned'], prefix='grade_binned', drop_first=True)\n",
    "condition_dummies = pd.get_dummies(df['condition'], prefix='condition', drop_first=True)\n",
    "\n",
    "df_preprocessed = df.drop(['floors_binned', 'view', 'grade_binned', 'condition'], axis=1)\n",
    "df_preprocessed = pd.concat([df_preprocessed, floors_dummies, view_dummies, grade_dummies, condition_dummies], axis=1)\n",
    "df_preprocessed.info()"
   ]
  },
  {
   "cell_type": "code",
   "execution_count": null,
   "metadata": {},
   "outputs": [],
   "source": [
    "#Rename columns that contain '.' so that they will run properly through our regression model later\n",
    "df.columns = df.columns.str.replace('.','_')"
   ]
  },
  {
   "cell_type": "code",
   "execution_count": null,
   "metadata": {},
   "outputs": [],
   "source": [
    "#Should we be removing floors and grade? The binned variables?"
   ]
  },
  {
   "cell_type": "code",
   "execution_count": null,
   "metadata": {},
   "outputs": [],
   "source": [
    "#new feature: age\n",
    "\n",
    "#df_preprocessed['age'] = df_preprocessed['yr_built'].apply(lambda x: 2015 - x)\n",
    "\n"
   ]
  }
 ],
 "metadata": {
  "kernelspec": {
   "display_name": "Python 3",
   "language": "python",
   "name": "python3"
  },
  "language_info": {
   "codemirror_mode": {
    "name": "ipython",
    "version": 3
   },
   "file_extension": ".py",
   "mimetype": "text/x-python",
   "name": "python",
   "nbconvert_exporter": "python",
   "pygments_lexer": "ipython3",
   "version": "3.6.9"
  }
 },
 "nbformat": 4,
 "nbformat_minor": 4
}
